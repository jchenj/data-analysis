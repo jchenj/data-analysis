{
 "cells": [
  {
   "cell_type": "markdown",
   "metadata": {
    "pycharm": {
     "name": "#%% md\n"
    }
   },
   "source": [
    "## Analysis of Popcorn Popping Success dataset\n",
    "Accessed on May 8, 2020 at: https://vincentarelbundock.github.io/Rdatasets/datasets.html     "
   ]
  },
  {
   "cell_type": "markdown",
   "metadata": {
    "pycharm": {
     "name": "#%% md\n"
    }
   },
   "source": [
    "### Question: Was there a signficant difference between the number of unpopped kernels between Orville and Seaway brand popcorn? "
   ]
  },
  {
   "cell_type": "code",
   "execution_count": 308,
   "metadata": {
    "pycharm": {
     "is_executing": false,
     "name": "#%%\n"
    }
   },
   "outputs": [
    {
     "data": {
      "text/plain": "   Unnamed: 0  Unpopped    Brand  Trial\n0           1        26  Orville      1\n1           2        35  Orville      2\n2           3        18  Orville      3\n3           4        14  Orville      4\n4           5         8  Orville      5",
      "text/html": "<div>\n<style scoped>\n    .dataframe tbody tr th:only-of-type {\n        vertical-align: middle;\n    }\n\n    .dataframe tbody tr th {\n        vertical-align: top;\n    }\n\n    .dataframe thead th {\n        text-align: right;\n    }\n</style>\n<table border=\"1\" class=\"dataframe\">\n  <thead>\n    <tr style=\"text-align: right;\">\n      <th></th>\n      <th>Unnamed: 0</th>\n      <th>Unpopped</th>\n      <th>Brand</th>\n      <th>Trial</th>\n    </tr>\n  </thead>\n  <tbody>\n    <tr>\n      <th>0</th>\n      <td>1</td>\n      <td>26</td>\n      <td>Orville</td>\n      <td>1</td>\n    </tr>\n    <tr>\n      <th>1</th>\n      <td>2</td>\n      <td>35</td>\n      <td>Orville</td>\n      <td>2</td>\n    </tr>\n    <tr>\n      <th>2</th>\n      <td>3</td>\n      <td>18</td>\n      <td>Orville</td>\n      <td>3</td>\n    </tr>\n    <tr>\n      <th>3</th>\n      <td>4</td>\n      <td>14</td>\n      <td>Orville</td>\n      <td>4</td>\n    </tr>\n    <tr>\n      <th>4</th>\n      <td>5</td>\n      <td>8</td>\n      <td>Orville</td>\n      <td>5</td>\n    </tr>\n  </tbody>\n</table>\n</div>"
     },
     "metadata": {},
     "output_type": "execute_result",
     "execution_count": 308
    }
   ],
   "source": [
    "# Import pandas, numpy, stats & seaborn\n",
    "import pandas as pd\n",
    "import numpy as np\n",
    "import seaborn as sns\n",
    "from scipy import stats\n",
    "\n",
    "# Read in dataset & print first five rows\n",
    "# pd.read_csv() assumes that dataset has a header\n",
    "df = pd.read_csv('popcorn.csv')\n",
    "df.head()"
   ]
  },
  {
   "cell_type": "code",
   "execution_count": 309,
   "metadata": {
    "pycharm": {
     "is_executing": false,
     "name": "#%%\n"
    }
   },
   "outputs": [
    {
     "data": {
      "text/plain": "   Unpopped    Brand  Trial\n0        26  Orville      1\n1        35  Orville      2\n2        18  Orville      3\n3        14  Orville      4\n4         8  Orville      5",
      "text/html": "<div>\n<style scoped>\n    .dataframe tbody tr th:only-of-type {\n        vertical-align: middle;\n    }\n\n    .dataframe tbody tr th {\n        vertical-align: top;\n    }\n\n    .dataframe thead th {\n        text-align: right;\n    }\n</style>\n<table border=\"1\" class=\"dataframe\">\n  <thead>\n    <tr style=\"text-align: right;\">\n      <th></th>\n      <th>Unpopped</th>\n      <th>Brand</th>\n      <th>Trial</th>\n    </tr>\n  </thead>\n  <tbody>\n    <tr>\n      <th>0</th>\n      <td>26</td>\n      <td>Orville</td>\n      <td>1</td>\n    </tr>\n    <tr>\n      <th>1</th>\n      <td>35</td>\n      <td>Orville</td>\n      <td>2</td>\n    </tr>\n    <tr>\n      <th>2</th>\n      <td>18</td>\n      <td>Orville</td>\n      <td>3</td>\n    </tr>\n    <tr>\n      <th>3</th>\n      <td>14</td>\n      <td>Orville</td>\n      <td>4</td>\n    </tr>\n    <tr>\n      <th>4</th>\n      <td>8</td>\n      <td>Orville</td>\n      <td>5</td>\n    </tr>\n  </tbody>\n</table>\n</div>"
     },
     "metadata": {},
     "output_type": "execute_result",
     "execution_count": 309
    }
   ],
   "source": [
    "# Drop unnamed column and print first five rows of new versions\n",
    "df = df.drop('Unnamed: 0', axis=1)\n",
    "df.head()"
   ]
  },
  {
   "cell_type": "code",
   "execution_count": 310,
   "metadata": {
    "pycharm": {
     "is_executing": false,
     "name": "#%% \n"
    }
   },
   "outputs": [
    {
     "data": {
      "text/plain": "Unpopped     int64\nBrand       object\nTrial        int64\ndtype: object"
     },
     "metadata": {},
     "output_type": "execute_result",
     "execution_count": 310
    }
   ],
   "source": [
    "# Print data types\n",
    "df.dtypes"
   ]
  },
  {
   "cell_type": "code",
   "execution_count": 311,
   "metadata": {
    "pycharm": {
     "is_executing": false,
     "name": "#%%\n"
    }
   },
   "outputs": [
    {
     "data": {
      "text/plain": "         Unpopped   Brand      Trial\ncount   12.000000      12  12.000000\nunique        NaN       2        NaN\ntop           NaN  Seaway        NaN\nfreq          NaN       6        NaN\nmean    25.583333     NaN   3.500000\nstd     14.292136     NaN   1.783765\nmin      6.000000     NaN   1.000000\n25%     14.000000     NaN   2.000000\n50%     23.500000     NaN   3.500000\n75%     35.500000     NaN   5.000000\nmax     47.000000     NaN   6.000000",
      "text/html": "<div>\n<style scoped>\n    .dataframe tbody tr th:only-of-type {\n        vertical-align: middle;\n    }\n\n    .dataframe tbody tr th {\n        vertical-align: top;\n    }\n\n    .dataframe thead th {\n        text-align: right;\n    }\n</style>\n<table border=\"1\" class=\"dataframe\">\n  <thead>\n    <tr style=\"text-align: right;\">\n      <th></th>\n      <th>Unpopped</th>\n      <th>Brand</th>\n      <th>Trial</th>\n    </tr>\n  </thead>\n  <tbody>\n    <tr>\n      <th>count</th>\n      <td>12.000000</td>\n      <td>12</td>\n      <td>12.000000</td>\n    </tr>\n    <tr>\n      <th>unique</th>\n      <td>NaN</td>\n      <td>2</td>\n      <td>NaN</td>\n    </tr>\n    <tr>\n      <th>top</th>\n      <td>NaN</td>\n      <td>Seaway</td>\n      <td>NaN</td>\n    </tr>\n    <tr>\n      <th>freq</th>\n      <td>NaN</td>\n      <td>6</td>\n      <td>NaN</td>\n    </tr>\n    <tr>\n      <th>mean</th>\n      <td>25.583333</td>\n      <td>NaN</td>\n      <td>3.500000</td>\n    </tr>\n    <tr>\n      <th>std</th>\n      <td>14.292136</td>\n      <td>NaN</td>\n      <td>1.783765</td>\n    </tr>\n    <tr>\n      <th>min</th>\n      <td>6.000000</td>\n      <td>NaN</td>\n      <td>1.000000</td>\n    </tr>\n    <tr>\n      <th>25%</th>\n      <td>14.000000</td>\n      <td>NaN</td>\n      <td>2.000000</td>\n    </tr>\n    <tr>\n      <th>50%</th>\n      <td>23.500000</td>\n      <td>NaN</td>\n      <td>3.500000</td>\n    </tr>\n    <tr>\n      <th>75%</th>\n      <td>35.500000</td>\n      <td>NaN</td>\n      <td>5.000000</td>\n    </tr>\n    <tr>\n      <th>max</th>\n      <td>47.000000</td>\n      <td>NaN</td>\n      <td>6.000000</td>\n    </tr>\n  </tbody>\n</table>\n</div>"
     },
     "metadata": {},
     "output_type": "execute_result",
     "execution_count": 311
    }
   ],
   "source": [
    "# Print summary of data\n",
    "# Add \"include='all'\" to include non-numerical variables\n",
    "df.describe(include=\"all\")"
   ]
  },
  {
   "cell_type": "code",
   "execution_count": 312,
   "metadata": {
    "pycharm": {
     "is_executing": false,
     "name": "#%%\n"
    }
   },
   "outputs": [
    {
     "name": "stdout",
     "text": [
      "<class 'pandas.core.frame.DataFrame'>\n",
      "RangeIndex: 12 entries, 0 to 11\n",
      "Data columns (total 3 columns):\n",
      " #   Column    Non-Null Count  Dtype \n",
      "---  ------    --------------  ----- \n",
      " 0   Unpopped  12 non-null     int64 \n",
      " 1   Brand     12 non-null     object\n",
      " 2   Trial     12 non-null     int64 \n",
      "dtypes: int64(2), object(1)\n",
      "memory usage: 416.0+ bytes\n"
     ],
     "output_type": "stream"
    }
   ],
   "source": [
    "# Print concise summary of df\n",
    "# \"verbose=True\" prints full summary with info on all columns\n",
    "df.info(verbose=True)"
   ]
  },
  {
   "cell_type": "code",
   "execution_count": 313,
   "metadata": {
    "pycharm": {
     "is_executing": false,
     "name": "#%%\n"
    }
   },
   "outputs": [
    {
     "name": "stdout",
     "text": [
      "Seaway     6\n",
      "Orville    6\n",
      "Name: Brand, dtype: int64\n"
     ],
     "output_type": "stream"
    }
   ],
   "source": [
    "# Count number of trials for each brand\n",
    "brand_counts = df[\"Brand\"].value_counts()\n",
    "print(brand_counts)"
   ]
  },
  {
   "cell_type": "code",
   "execution_count": 314,
   "metadata": {
    "pycharm": {
     "is_executing": false,
     "name": "#%%\n"
    }
   },
   "outputs": [
    {
     "data": {
      "text/plain": "<matplotlib.axes._subplots.AxesSubplot at 0x1257239d0>"
     },
     "metadata": {},
     "output_type": "execute_result",
     "execution_count": 314
    },
    {
     "data": {
      "text/plain": "<Figure size 432x288 with 1 Axes>",
      "image/png": "[encoded data removed]"
     },
     "metadata": {
      "needs_background": "light"
     },
     "output_type": "display_data"
    }
   ],
   "source": [
    "# Plot the number of unpopped kernals by brand\n",
    "sns.boxplot(x= \"Brand\", y=\"Unpopped\", data=df)"
   ]
  },
  {
   "cell_type": "code",
   "execution_count": 315,
   "outputs": [
    {
     "data": {
      "text/plain": "          Unpopped\nBrand             \nOrville  17.833333\nSeaway   33.333333",
      "text/html": "<div>\n<style scoped>\n    .dataframe tbody tr th:only-of-type {\n        vertical-align: middle;\n    }\n\n    .dataframe tbody tr th {\n        vertical-align: top;\n    }\n\n    .dataframe thead th {\n        text-align: right;\n    }\n</style>\n<table border=\"1\" class=\"dataframe\">\n  <thead>\n    <tr style=\"text-align: right;\">\n      <th></th>\n      <th>Unpopped</th>\n    </tr>\n    <tr>\n      <th>Brand</th>\n      <th></th>\n    </tr>\n  </thead>\n  <tbody>\n    <tr>\n      <th>Orville</th>\n      <td>17.833333</td>\n    </tr>\n    <tr>\n      <th>Seaway</th>\n      <td>33.333333</td>\n    </tr>\n  </tbody>\n</table>\n</div>"
     },
     "metadata": {},
     "output_type": "execute_result",
     "execution_count": 315
    }
   ],
   "source": [
    "# Group the dataset by brand and compare mean number of unpopped kernals\n",
    "df_test = df[[\"Unpopped\", \"Brand\"]]\n",
    "df_grp = df_test.groupby(['Brand']).mean()\n",
    "df_grp"
   ],
   "metadata": {
    "collapsed": false,
    "pycharm": {
     "name": "#%%\n",
     "is_executing": false
    }
   }
  },
  {
   "cell_type": "code",
   "execution_count": 316,
   "outputs": [
    {
     "name": "stdout",
     "text": [
      "F_onewayResult(statistic=4.722616577481711, pvalue=0.05487636331577507)\n"
     ],
     "output_type": "stream"
    }
   ],
   "source": [
    "df_anova = df[['Unpopped', 'Brand']]\n",
    "grouped_anova = df_anova.groupby(['Brand'])\n",
    "anova_results_1=stats.f_oneway(grouped_anova.get_group(\"Orville\")[\"Unpopped\"], grouped_anova.get_group(\"Seaway\")[\"Unpopped\"])\n",
    "print(anova_results_1)"
   ],
   "metadata": {
    "collapsed": false,
    "pycharm": {
     "name": "#%%\n",
     "is_executing": false
    }
   }
  },
  {
   "cell_type": "markdown",
   "source": [
    "### Conclusion\n",
    "While Seaway had a higher mean number of unpopped kernals (33) than Orville (18) in this sample, there was no significant effect of brand on number of unpopped kernals (F(1,11) = 4.72, p > 0.05). \n"
   ],
   "metadata": {
    "collapsed": false,
    "pycharm": {
     "name": "#%% md\n"
    }
   }
  }
 ],
 "metadata": {
  "kernelspec": {
   "display_name": "Python 3",
   "language": "python",
   "name": "python3"
  },
  "language_info": {
   "codemirror_mode": {
    "name": "ipython",
    "version": 3
   },
   "file_extension": ".py",
   "mimetype": "text/x-python",
   "name": "python",
   "nbconvert_exporter": "python",
   "pygments_lexer": "ipython3",
   "version": "3.7.4"
  },
  "pycharm": {
   "stem_cell": {
    "cell_type": "raw",
    "source": [],
    "metadata": {
     "collapsed": false
    }
   }
  }
 },
 "nbformat": 4,
 "nbformat_minor": 1
}